{
 "cells": [
  {
   "cell_type": "code",
   "execution_count": null,
   "id": "8b19dc3e",
   "metadata": {},
   "outputs": [
    {
     "name": "stdout",
     "output_type": "stream",
     "text": [
      "<torch._C.Generator object at 0x104cf0330>\n"
     ]
    }
   ],
   "source": [
    "\"\"\"\n",
    "torch.Generator() 本身只是一个随机数生成器对象，不会产生随机数。\n",
    "要想用它产生稳定的随机序列，需要配合 .manual_seed(seed) 设置种子。\n",
    "它的好处是你可以为不同任务准备不同的随机流，互不干扰，比 torch.manual_seed()（全局种子）更灵活。\n",
    "\"\"\"\n",
    "\n",
    "import torch\n",
    "g = torch.Generator()        # 创建一个随机数生成器\n",
    "out = g.manual_seed(42)            # 设置随机种子\n",
    "\n",
    "print(out)"
   ]
  },
  {
   "cell_type": "code",
   "execution_count": null,
   "id": "03682e06",
   "metadata": {},
   "outputs": [
    {
     "name": "stdout",
     "output_type": "stream",
     "text": [
      "80 20\n",
      "42 2\n"
     ]
    }
   ],
   "source": [
    "\"\"\"\n",
    "random_split 随机数据集划分\n",
    "\"\"\"\n",
    "\n",
    "from torch.utils.data import Dataset, random_split\n",
    "import torch\n",
    "\n",
    "# 一个简单的数据集\n",
    "class MyDataset(Dataset):\n",
    "    def __init__(self):\n",
    "        self.data = list(range(100))  # 假设有 100 条数据\n",
    "\n",
    "    def __len__(self):\n",
    "        return len(self.data)\n",
    "\n",
    "    def __getitem__(self, idx):\n",
    "        return self.data[idx]\n",
    "\n",
    "dataset = MyDataset()\n",
    "\n",
    "# 设置随机种子（保证每次划分结果相同）\n",
    "generator = torch.Generator().manual_seed(42)\n",
    "\n",
    "# 按比例划分 80% 训练集, 20% 验证集\n",
    "train_size = int(0.8 * len(dataset))\n",
    "val_size = len(dataset) - train_size\n",
    "\n",
    "train_dataset, val_dataset = random_split(dataset, [train_size, val_size], generator=generator)\n",
    "\n",
    "print(len(train_dataset), len(val_dataset))  # 输出 80 20\n",
    "print(train_dataset[0], val_dataset[0])  # 随机划分的样本"
   ]
  },
  {
   "cell_type": "code",
   "execution_count": null,
   "id": "0d6a4d4f",
   "metadata": {},
   "outputs": [
    {
     "name": "stderr",
     "output_type": "stream",
     "text": [
      "/Users/lisicong/miniforge3/envs/transformer/lib/python3.10/site-packages/transformers/models/marian/tokenization_marian.py:175: UserWarning: Recommended: pip install sacremoses.\n",
      "  warnings.warn(\"Recommended: pip install sacremoses.\")\n"
     ]
    },
    {
     "name": "stdout",
     "output_type": "stream",
     "text": [
      "编码结果：\n",
      "{'input_ids': tensor([[13575, 16183,  2886,     9,     0]]), 'attention_mask': tensor([[1, 1, 1, 1, 1]])}\n",
      "翻译结果： I like machine learning.\n",
      "batch 输入token:  {'input_ids': tensor([[13575, 16183,  2886,     9,     0, 65000],\n",
      "        [    7, 25765,  2886, 27398,     9,     0]]), 'attention_mask': tensor([[1, 1, 1, 1, 1, 0],\n",
      "        [1, 1, 1, 1, 1, 1]])}\n",
      "批量翻译结果： ['I like machine learning.', 'Deep learning is interesting.']\n"
     ]
    }
   ],
   "source": [
    "\"\"\"\n",
    "分词器的基本使用\n",
    "\"\"\"\n",
    "\n",
    "from transformers import AutoTokenizer, AutoModelForSeq2SeqLM\n",
    "\n",
    "# 1. 加载 tokenizer 和模型\n",
    "model_checkpoint = \"Helsinki-NLP/opus-mt-zh-en\"\n",
    "tokenizer = AutoTokenizer.from_pretrained(model_checkpoint)\n",
    "model = AutoModelForSeq2SeqLM.from_pretrained(model_checkpoint)\n",
    "\n",
    "# 2. 输入中文句子\n",
    "text = \"我喜欢机器学习。\"\n",
    "\n",
    "# 3. 编码成模型输入\n",
    "inputs = tokenizer(\n",
    "    text,\n",
    "    return_tensors=\"pt\",  # 返回 PyTorch 张量\n",
    "    padding=True,\n",
    "    truncation=True\n",
    ")\n",
    "\n",
    "print(\"编码结果：\")\n",
    "print(inputs)\n",
    "\n",
    "# 4. 用模型生成翻译\n",
    "outputs = model.generate(**inputs, max_length=40)\n",
    "\n",
    "# 5. 解码回人类可读文本\n",
    "translated_text = tokenizer.decode(outputs[0], skip_special_tokens=True)\n",
    "print(\"翻译结果：\", translated_text)\n",
    "\n",
    "# 6. 批量翻译示例\n",
    "sentences = [\"我喜欢机器学习。\", \"深度学习很有趣。\"]\n",
    "batch_inputs = tokenizer(sentences, return_tensors=\"pt\", padding=True, truncation=True)\n",
    "\n",
    "print(\"batch 输入token: \", batch_inputs)\n",
    "\n",
    "batch_outputs = model.generate(**batch_inputs, max_length=40)\n",
    "batch_translations = [tokenizer.decode(t, skip_special_tokens=True) for t in batch_outputs]\n",
    "\n",
    "print(\"批量翻译结果：\", batch_translations)"
   ]
  },
  {
   "cell_type": "code",
   "execution_count": 9,
   "id": "bb2c5a29",
   "metadata": {},
   "outputs": [
    {
     "name": "stdout",
     "output_type": "stream",
     "text": [
      "7001\n",
      "345\n"
     ]
    }
   ],
   "source": [
    "\"\"\"\n",
    "工程上对于truncation的用法是，切分为chunk\n",
    "长文本 → 切成 chunks → 模型处理 → 结果合并\n",
    "\"\"\"\n",
    "max_len = 512\n",
    "stride = 256  # 滑动窗口重叠部分，保证上下文连续\n",
    "\n",
    "\n",
    "long_text = \"我太爱机器学习了！\" * 1000\n",
    "tokens = tokenizer(long_text, return_tensors=\"pt\")[\"input_ids\"][0]\n",
    "chunks = []\n",
    "for i in range(0, len(tokens), max_len - stride):\n",
    "    chunk = tokens[i:i + max_len]\n",
    "    chunks.append(chunk)\n",
    "\n",
    "print(len(tokens))\n",
    "print(len(chunks[-2]))"
   ]
  },
  {
   "cell_type": "code",
   "execution_count": null,
   "id": "38b73591",
   "metadata": {},
   "outputs": [],
   "source": [
    "\"\"\"\n",
    "torch.where\n",
    "\"\"\"\n",
    "\n"
   ]
  }
 ],
 "metadata": {
  "kernelspec": {
   "display_name": "transformer",
   "language": "python",
   "name": "python3"
  },
  "language_info": {
   "codemirror_mode": {
    "name": "ipython",
    "version": 3
   },
   "file_extension": ".py",
   "mimetype": "text/x-python",
   "name": "python",
   "nbconvert_exporter": "python",
   "pygments_lexer": "ipython3",
   "version": "3.10.18"
  }
 },
 "nbformat": 4,
 "nbformat_minor": 5
}
