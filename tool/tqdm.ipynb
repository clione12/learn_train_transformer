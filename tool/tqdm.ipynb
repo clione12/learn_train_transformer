{
 "cells": [
  {
   "cell_type": "code",
   "execution_count": 2,
   "id": "12e200be",
   "metadata": {},
   "outputs": [
    {
     "name": "stderr",
     "output_type": "stream",
     "text": [
      "100%|██████████| 10/10 [00:03<00:00,  3.28it/s]\n"
     ]
    }
   ],
   "source": [
    "from tqdm import tqdm\n",
    "import time\n",
    "\n",
    "# range 外面加 tqdm\n",
    "for i in tqdm(range(10)):\n",
    "    time.sleep(0.3)  # 模拟耗时操作"
   ]
  },
  {
   "cell_type": "code",
   "execution_count": 3,
   "id": "24319920",
   "metadata": {},
   "outputs": [
    {
     "name": "stderr",
     "output_type": "stream",
     "text": [
      "Processing: 100%|██████████| 3/3 [00:01<00:00,  1.97it/s]\n"
     ]
    }
   ],
   "source": [
    "items = [\"apple\", \"banana\", \"cherry\"]\n",
    "for fruit in tqdm(items, desc=\"Processing\"):\n",
    "    time.sleep(0.5)"
   ]
  },
  {
   "cell_type": "code",
   "execution_count": null,
   "id": "92ab0f39",
   "metadata": {},
   "outputs": [],
   "source": [
    "import torch\n",
    "from torch import nn, optim\n",
    "from tqdm import tqdm\n",
    "\n",
    "# 假设我们有 dataloader, model, loss_fn, optimizer\n",
    "dataloader = [...]  # 用真实 DataLoader 替换\n",
    "model = nn.Linear(10, 1)\n",
    "loss_fn = nn.MSELoss()\n",
    "optimizer = optim.Adam(model.parameters())\n",
    "\n",
    "num_epochs = 3\n",
    "for epoch in range(num_epochs):\n",
    "    # tqdm 包裹 dataloader\n",
    "    loop = tqdm(dataloader, desc=f\"Epoch {epoch+1}/{num_epochs}\", unit=\"batch\")\n",
    "    for batch_data, batch_labels in loop:\n",
    "        # 前向\n",
    "        pred = model(batch_data)\n",
    "        loss = loss_fn(pred, batch_labels)\n",
    "\n",
    "        # 反向\n",
    "        optimizer.zero_grad()\n",
    "        loss.backward()\n",
    "        optimizer.step()\n",
    "\n",
    "        # 更新进度条上的显示\n",
    "        loop.set_postfix(loss=loss.item())"
   ]
  }
 ],
 "metadata": {
  "kernelspec": {
   "display_name": "transformer",
   "language": "python",
   "name": "python3"
  },
  "language_info": {
   "codemirror_mode": {
    "name": "ipython",
    "version": 3
   },
   "file_extension": ".py",
   "mimetype": "text/x-python",
   "name": "python",
   "nbconvert_exporter": "python",
   "pygments_lexer": "ipython3",
   "version": "3.10.18"
  }
 },
 "nbformat": 4,
 "nbformat_minor": 5
}
